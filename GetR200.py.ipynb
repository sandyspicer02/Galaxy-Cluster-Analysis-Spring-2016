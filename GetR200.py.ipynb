{
 "cells": [
  {
   "cell_type": "markdown",
   "metadata": {},
   "source": [
    "# R200"
   ]
  },
  {
   "cell_type": "markdown",
   "metadata": {},
   "source": [
    "This program calculates R200 in degrees given the central velocity and velocity dispersion."
   ]
  },
  {
   "cell_type": "markdown",
   "metadata": {},
   "source": [
    "R200 is a region surrounding a galaxy cluster that distinguishes which galaxies are inside or outside of the cluster."
   ]
  },
  {
   "cell_type": "code",
   "execution_count": 2,
   "metadata": {
    "collapsed": false
   },
   "outputs": [
    {
     "name": "stderr",
     "output_type": "stream",
     "text": [
      "/Applications/anaconda/lib/python2.7/site-packages/IPython/kernel/__init__.py:13: ShimWarning: The `IPython.kernel` package has been deprecated. You should import from ipykernel or jupyter_client instead.\n",
      "  \"You should import from ipykernel or jupyter_client instead.\", ShimWarning)\n"
     ]
    }
   ],
   "source": [
    "from astropy.cosmology import FlatLambdaCDM\n",
    "import numpy as np\n",
    "cosmo = FlatLambdaCDM(H0=70, Om0=0.3)\n",
    "OmL=.7\n",
    "Om0=.3\n",
    "H0=70.\n",
    "def getr200(recessionvel,sigma):\n",
    "    redshift=recessionvel/3.e5\n",
    "    r200=2.02*(sigma)/1000./np.sqrt(OmL+Om0*(1.+redshift)**3)*H0/70. # in Mpc\n",
    "    r200deg=r200/cosmo.angular_diameter_distance(redshift)*180./np.pi\n",
    "    return r200deg.value"
   ]
  },
  {
   "cell_type": "code",
   "execution_count": 8,
   "metadata": {
    "collapsed": false
   },
   "outputs": [
    {
     "name": "stdout",
     "output_type": "stream",
     "text": [
      "0.600350884411\n"
     ]
    }
   ],
   "source": [
    "# NRGb244\n",
    "t1=getr200(7133.6,518.8)\n",
    "print t1"
   ]
  },
  {
   "cell_type": "code",
   "execution_count": 7,
   "metadata": {
    "collapsed": false
   },
   "outputs": [
    {
     "name": "stdout",
     "output_type": "stream",
     "text": [
      "1.29385943392\n"
     ]
    }
   ],
   "source": [
    "# Abell2063\n",
    "t2=getr200(11505.2,1784.1)\n",
    "print t2"
   ]
  }
 ],
 "metadata": {
  "kernelspec": {
   "display_name": "Python 2",
   "language": "python",
   "name": "python2"
  },
  "language_info": {
   "codemirror_mode": {
    "name": "ipython",
    "version": 2
   },
   "file_extension": ".py",
   "mimetype": "text/x-python",
   "name": "python",
   "nbconvert_exporter": "python",
   "pygments_lexer": "ipython2",
   "version": "2.7.11"
  }
 },
 "nbformat": 4,
 "nbformat_minor": 0
}
