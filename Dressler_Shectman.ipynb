{
 "cells": [
  {
   "cell_type": "markdown",
   "metadata": {},
   "source": [
    "# Dressler Shectman"
   ]
  },
  {
   "cell_type": "markdown",
   "metadata": {},
   "source": [
    "Information taken from: \"Evidence for Substructure in Rich Clusters of Galaxies from Radial-Velocity Measurements\" by Alan Dressler and Stephen Shectman\n",
    "\n",
    "For each galaxy with a measured radial velocity, we find the ten nearest neighbors with measured velocities. From this sample of 11, we calculate the local velocity mean and dispersion determined for the entire cluster sample. The global mean velocity $\\vec{v}$ and dispersion $\\sigma$ are calculated assuming a Gaussian distribution, but this assumption is ultimately removed by the normalizing procedure."
   ]
  },
  {
   "cell_type": "markdown",
   "metadata": {},
   "source": [
    "$$\\delta^2 = (11/\\sigma^2)[(\\bar{v_{local}} - \\bar{v})^2 + (\\sigma_{local} - \\sigma)^2]$$"
   ]
  },
  {
   "cell_type": "code",
   "execution_count": 1,
   "metadata": {
    "collapsed": false
   },
   "outputs": [
    {
     "name": "stderr",
     "output_type": "stream",
     "text": [
      "/Applications/anaconda/lib/python2.7/site-packages/IPython/kernel/__init__.py:13: ShimWarning: The `IPython.kernel` package has been deprecated. You should import from ipykernel or jupyter_client instead.\n",
      "  \"You should import from ipykernel or jupyter_client instead.\", ShimWarning)\n"
     ]
    }
   ],
   "source": [
    "import glob\n",
    "from matplotlib import pyplot as plt\n",
    "import numpy as np\n",
    "import scipy.stats\n",
    "import glob\n",
    "from astropy.stats import biweight_location, biweight_midvariance, sigma_clip, bootstrap\n",
    "from astropy import cosmology\n",
    "from astropy.io import fits\n",
    "\n",
    "%matplotlib inline"
   ]
  },
  {
   "cell_type": "code",
   "execution_count": 71,
   "metadata": {
    "collapsed": false
   },
   "outputs": [
    {
     "name": "stderr",
     "output_type": "stream",
     "text": [
      "/Applications/anaconda/lib/python2.7/site-packages/ipykernel/__main__.py:49: FutureWarning: elementwise comparison failed; returning scalar instead, but in the future will perform elementwise comparison\n",
      "/Applications/anaconda/lib/python2.7/site-packages/ipykernel/__main__.py:50: FutureWarning: elementwise comparison failed; returning scalar instead, but in the future will perform elementwise comparison\n",
      "/Applications/anaconda/lib/python2.7/site-packages/ipykernel/__main__.py:51: FutureWarning: elementwise comparison failed; returning scalar instead, but in the future will perform elementwise comparison\n",
      "/Applications/anaconda/lib/python2.7/site-packages/ipykernel/__main__.py:52: FutureWarning: elementwise comparison failed; returning scalar instead, but in the future will perform elementwise comparison\n"
     ]
    },
    {
     "ename": "IndexError",
     "evalue": "string index out of range",
     "output_type": "error",
     "traceback": [
      "\u001b[0;31m---------------------------------------------------------------------------\u001b[0m",
      "\u001b[0;31mIndexError\u001b[0m                                Traceback (most recent call last)",
      "\u001b[0;32m<ipython-input-71-b1eb47387d65>\u001b[0m in \u001b[0;36m<module>\u001b[0;34m()\u001b[0m\n\u001b[1;32m     50\u001b[0m     \u001b[0mclusterRA\u001b[0m\u001b[0;34m=\u001b[0m\u001b[0mRA\u001b[0m\u001b[0;34m[\u001b[0m\u001b[0mnames\u001b[0m \u001b[0;34m==\u001b[0m \u001b[0mAGCNUMBER\u001b[0m\u001b[0;34m]\u001b[0m\u001b[0;34m\u001b[0m\u001b[0m\n\u001b[1;32m     51\u001b[0m     \u001b[0mclusterDEC\u001b[0m\u001b[0;34m=\u001b[0m\u001b[0mDEC\u001b[0m\u001b[0;34m[\u001b[0m\u001b[0mnames\u001b[0m \u001b[0;34m==\u001b[0m \u001b[0mAGCNUMBER\u001b[0m\u001b[0;34m]\u001b[0m\u001b[0;34m\u001b[0m\u001b[0m\n\u001b[0;32m---> 52\u001b[0;31m     \u001b[0mclusterTYPE\u001b[0m\u001b[0;34m=\u001b[0m\u001b[0mDESCRIPTION\u001b[0m\u001b[0;34m[\u001b[0m\u001b[0mnames\u001b[0m \u001b[0;34m==\u001b[0m \u001b[0mAGCNUMBER\u001b[0m\u001b[0;34m]\u001b[0m\u001b[0;34m\u001b[0m\u001b[0m\n\u001b[0m\u001b[1;32m     53\u001b[0m     \u001b[0mdat\u001b[0m \u001b[0;34m=\u001b[0m \u001b[0mfits\u001b[0m\u001b[0;34m.\u001b[0m\u001b[0mgetdata\u001b[0m\u001b[0;34m(\u001b[0m\u001b[0mi\u001b[0m\u001b[0;34m)\u001b[0m\u001b[0;34m\u001b[0m\u001b[0m\n\u001b[1;32m     54\u001b[0m     \u001b[0;31m# cut velocities to within +/- 4000 km/s\u001b[0m\u001b[0;34m\u001b[0m\u001b[0;34m\u001b[0m\u001b[0m\n",
      "\u001b[0;31mIndexError\u001b[0m: string index out of range"
     ]
    }
   ],
   "source": [
    "A2063_AGC = fits.open('Abell2063_AGC.fits')\n",
    "outfile = open('Abell2063_AGC.dat','w')\n",
    "#A2063_AGC.info()\n",
    "Abell2063_AGC = A2063_AGC[1].data\n",
    "#print Abell2063_AGC\n",
    "# cols = A2063_AGC[1].columns # Prints the titles of each column\n",
    "# cols.info()\n",
    "\n",
    "for i in Abell2063_AGC:\n",
    "    AGCNUMBER = i[0]\n",
    "    WHICH = i[1]\n",
    "    RA = i[2]\n",
    "    DEC = i[3]\n",
    "    A100 = i[4]\n",
    "    B100 = i[5]\n",
    "    MAG10 = i[6]\n",
    "    INCCODE = i[7]\n",
    "    POSANG = i[8]\n",
    "    DESCRIPTION = i[9]\n",
    "    BSTEINTYPE = i[10]\n",
    "    VOPT = i[11]\n",
    "    VERR = i[12]\n",
    "    EXTRC3 = i[13]\n",
    "    EXTDIRBE = i[14]\n",
    "    VSOURCE = i[15]\n",
    "    NGCIC = i[16]\n",
    "    FLUX100 = i[17]\n",
    "    RMS100 = i[18]\n",
    "    V21 = i[19]\n",
    "    WIDTH = i[20]\n",
    "    WIDTHERR = i[21]\n",
    "    TELCODE = i[22]\n",
    "    DETCODE = i[23]\n",
    "    HISOURCE = i[24]\n",
    "    STATUSCODE = i[25]\n",
    "    SNRATIO = i[26]\n",
    "    IBANDQUAL = i[27]\n",
    "    IBANDSRC = i[28]\n",
    "    IRASFLAG = i[29]\n",
    "    ICLUSTER = i[30]\n",
    "    HIDATA = i[31]\n",
    "    IPOSITION = i[32]\n",
    "    IPALOMAR = i[33]\n",
    "    RC3FLAG = i[34]\n",
    "    #print DESCRIPTION\n",
    "    #print VOPT\n",
    "    #outfile.write('AGCNUMBER', 'WHICH', 'RA', 'DEC', 'A100', 'B100', 'MAG10', 'INCCODE', 'POSANG', 'DESCRIPTION', 'BSTEINTYPE', 'VOPT', 'VERR', 'EXTRC3', 'EXTDIRBE', 'VSOURCE', 'NGCIC', 'FLUX100', 'RMS100', 'V21', 'WIDTH', 'WIDTHERR', 'TELCODE', 'DETCODE', 'HISOURCE', 'STATUSCODE', 'SNRATIO', 'IBANDQUAL', 'IBANDSRC', 'IRASFLAG', 'ICLUSTER', 'HIDATA', 'IPOSITION', 'IPALOMAR', 'RC3FLAG')\n",
    "    #AGCNUMBER=i.split('_')[0]\n",
    "    clustervel=VOPT[names == AGCNUMBER]\n",
    "    clusterRA=RA[names == AGCNUMBER]\n",
    "    clusterDEC=DEC[names == AGCNUMBER]\n",
    "    clusterTYPE=DESCRIPTION[names == AGCNUMBER]\n",
    "    dat = fits.getdata(i)\n",
    "    # cut velocities to within +/- 4000 km/s\n",
    "    keepflag = (np.abs(dat.ZDIST*3.e5 - clustervel) < 4000.) & (np.sqrt((dat.RA-clusterRA)**2+(dat.DEC-clusterDEC)**2) < .75)\n",
    "    # calculate biweight center and scale\n",
    "    a,b=getbiweight(dat.ZDIST[keepflag]*3.e5)\n",
    "    print AGCNUMBER,\": center vel = %5.1f, scale = %5.1f, RA = %12.8f, DEC = %12.8f\"%(a,b,clusterRA,clusterDEC,clusterTYPE)\n",
    "    outfile.write(AGCNUMBER+\" %5.1f %5.1f %12.8f %12.8f\\n\"%(a,b,clusterRA,clusterDEC))\n",
    "outfile.close()"
   ]
  },
  {
   "cell_type": "code",
   "execution_count": null,
   "metadata": {
    "collapsed": false
   },
   "outputs": [],
   "source": []
  },
  {
   "cell_type": "code",
   "execution_count": null,
   "metadata": {
    "collapsed": false
   },
   "outputs": [],
   "source": []
  },
  {
   "cell_type": "code",
   "execution_count": null,
   "metadata": {
    "collapsed": false
   },
   "outputs": [],
   "source": []
  },
  {
   "cell_type": "code",
   "execution_count": null,
   "metadata": {
    "collapsed": false
   },
   "outputs": [],
   "source": []
  },
  {
   "cell_type": "code",
   "execution_count": null,
   "metadata": {
    "collapsed": true
   },
   "outputs": [],
   "source": []
  }
 ],
 "metadata": {
  "kernelspec": {
   "display_name": "Python 2",
   "language": "python",
   "name": "python2"
  },
  "language_info": {
   "codemirror_mode": {
    "name": "ipython",
    "version": 2
   },
   "file_extension": ".py",
   "mimetype": "text/x-python",
   "name": "python",
   "nbconvert_exporter": "python",
   "pygments_lexer": "ipython2",
   "version": "2.7.11"
  }
 },
 "nbformat": 4,
 "nbformat_minor": 0
}
