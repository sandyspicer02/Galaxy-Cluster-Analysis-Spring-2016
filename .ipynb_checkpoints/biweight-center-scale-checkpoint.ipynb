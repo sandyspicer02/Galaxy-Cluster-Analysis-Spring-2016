{
 "cells": [
  {
   "cell_type": "markdown",
   "metadata": {},
   "source": [
    "\n",
    "    Written by Rose A. Finn, updated on January 5, 2015\n",
    "\n",
    "    PURPOSE: \n",
    "      This program calculates the biweight center and scale for the LCS clusters\n",
    "      using existing programs from the astropy.stats package.  Errors on the center\n",
    "      and scale are calculating using bootstrap resampling (1000 samples is the default).\n",
    "\n",
    "      \n",
    "    CALLING SEQUENCE\n",
    "\n",
    "       from within ipython\n",
    "\n",
    "       % run  ~/svnRepository/pythonCode/LCSbiweight.py\n",
    "       getbiweightall()\n",
    "\n",
    "       to see the results plotted with velocity histogram for one cluster\n",
    "\n",
    "       mkw11.plotvhist()\n",
    "\n",
    "       to see a multipanel plot for all clusters, type\n",
    "\n",
    "       plotall()\n",
    "\n",
    "    INPUT PARAMETERS\n",
    "      none\n",
    "      \n",
    "    OUTPUT PARAMETERS\n",
    "      none\n",
    "    \n",
    "    EXAMPLES\n",
    "      see calling sequence\n",
    "    \n",
    "    PROCEDURE\n",
    "\n",
    "      The NSA catalog is cut to include only those galaxies with velocities within\n",
    "      4000 km/s of the central velocity (from the literature) and within a projected\n",
    "      radius of 1 degree.  The biweight location and scale are calculated, and the\n",
    "      location is used as the median, and the biweight location and scale are recalculated.\n",
    "      This is repeated until the scale changes by less than 1 km/s.  This typically requires\n",
    "      2 iterations.\n",
    "\n",
    "    REQUIRED PYTHON MODULES\n",
    "      numpy\n",
    "      pylab\n",
    "      astropy\n",
    "      scipy\n"
   ]
  },
  {
   "cell_type": "code",
   "execution_count": 2,
   "metadata": {
    "collapsed": false
   },
   "outputs": [
    {
     "name": "stderr",
     "output_type": "stream",
     "text": [
      "/Applications/anaconda/lib/python2.7/site-packages/IPython/kernel/__init__.py:13: ShimWarning: The `IPython.kernel` package has been deprecated. You should import from ipykernel or jupyter_client instead.\n",
      "  \"You should import from ipykernel or jupyter_client instead.\", ShimWarning)\n"
     ]
    }
   ],
   "source": [
    "from matplotlib import pyplot as plt\n",
    "import numpy as np\n",
    "import scipy.stats\n",
    "import glob\n",
    "from astropy.stats import biweight_location, biweight_midvariance, sigma_clip, bootstrap\n",
    "from astropy import cosmology\n",
    "from astropy.io import fits\n",
    "\n",
    "%matplotlib inline"
   ]
  },
  {
   "cell_type": "code",
   "execution_count": 3,
   "metadata": {
    "collapsed": false
   },
   "outputs": [],
   "source": [
    "# Calculates central velocity of cluster\n",
    "def centralbi(x, M=None):\n",
    "    x=np.array(x,'f')\n",
    "    if M is None:\n",
    "        M=np.median(x)\n",
    "    \n",
    "    MAD=np.median(np.abs(x-M))\n",
    "    ui=((x-M)/(6*MAD))\n",
    "    top=np.sum((x-M)*((1-ui**2)**2))\n",
    "    bottom=np.sum((1-ui**2)**2)\n",
    "    \n",
    "    \n",
    "    cbi=M + (top/bottom)\n",
    "    #print self.clustername\n",
    "    # print(cbi)\n",
    "    \n",
    "    #finds the biweight scale\n",
    "    n=len(x)\n",
    "    usbi=((x-M)/(9*MAD))\n",
    "    upper= np.sum(((x-M)**2)*((1-usbi**2)**4))\n",
    "    lower=np.sum((1-usbi**2)*(1-5*usbi**2))\n",
    "    sbi=sqrt(n)*((sqrt(upper))/(np.abs(lower)))\n",
    "    return cbi,sbi\n",
    "\n",
    "# Calculate biweightlocation\n",
    "def getbiweight(z):\n",
    "    scale_cut = 3\n",
    "    biweightscale=biweight_midvariance(z)\n",
    "    biweightlocation=biweight_location(z)\n",
    "\n",
    "    flag=np.abs(z-biweightlocation)/biweightscale < scale_cut\n",
    "    #flag=np.ones(len(z),'bool')\n",
    "    repeatflag=1\n",
    "    nloop=0\n",
    "    #print biweightlocation, biweightscale\n",
    "    oldbiweightscale=biweightscale\n",
    "    while repeatflag:\n",
    "        newdata=z[flag]\n",
    "        biweightscale=biweight_midvariance(newdata, M=biweightlocation)\n",
    "        biweightlocation=biweight_location(newdata, M=biweightlocation)\n",
    "        oldflag = flag\n",
    "        #flag=abs(z-biweightlocation)/biweightscale < scale_cut\n",
    "        nloop += 1\n",
    "        #print nloop, biweightlocation, biweightscale, len(newdata), sum(flag)\n",
    "        #if sum(flag == oldflag) == len(flag): \n",
    "        #    repeatflag=0\n",
    "        #    print 'nloop = ', nloop\n",
    "        if np.abs(biweightscale - oldbiweightscale) < 1.: \n",
    "            repeatflag=0\n",
    "            #print 'nloop = ', nloop\n",
    "        if nloop > 5:\n",
    "            repeatflag = 0\n",
    "        oldbiweightscale=biweightscale\n",
    "        #print nloop, biweightlocation, biweightscale\n",
    "    #flag=abs(z-biweightlocation)/biweightscale < 4.\n",
    "    #biweightscale=biweight_midvariance(z[flag],M=biweightlocation)\n",
    "    return biweightlocation, biweightscale\n",
    "\n"
   ]
  },
  {
   "cell_type": "code",
   "execution_count": 4,
   "metadata": {
    "collapsed": false
   },
   "outputs": [
    {
     "name": "stdout",
     "output_type": "stream",
     "text": [
      "['NRGb004' 'NRGs027' 'NRGs038' 'NRGs076' 'NRGs090' 'NRGs110' 'NRGs117'\n",
      " 'NRGb128' 'NRGb155' 'NRGb177' 'NRGb226' 'NRGb244' 'NRGb247' 'NRGs317'\n",
      " 'Abell2063']\n"
     ]
    }
   ],
   "source": [
    "# Read in sample.dat - has cluster, RA, Dec, recession velocity\n",
    "\n",
    "names = []\n",
    "RA = []\n",
    "DEC = []\n",
    "vr = []\n",
    "infile1=open('sample.dat','r')\n",
    "\n",
    "for line in infile1:\n",
    "    #print line\n",
    "    t=line.split()\n",
    "    #print t\n",
    "   \n",
    "    names.append(t[0])\n",
    "    RA.append(t[1])\n",
    "    DEC.append(t[2])\n",
    "    vr.append(t[3])\n",
    "\n",
    "vr = np.array(vr,'f')\n",
    "RA = np.array(RA,'f')\n",
    "DEC = np.array(DEC,'f')\n",
    "names = np.array(names)\n",
    "\n",
    "print names"
   ]
  },
  {
   "cell_type": "code",
   "execution_count": 5,
   "metadata": {
    "collapsed": false
   },
   "outputs": [
    {
     "data": {
      "text/plain": [
       "array([ 7245.], dtype=float32)"
      ]
     },
     "execution_count": 5,
     "metadata": {},
     "output_type": "execute_result"
    }
   ],
   "source": [
    "vr [names =='NRGb244'] # Will return recession velocity for this cluster"
   ]
  },
  {
   "cell_type": "code",
   "execution_count": 8,
   "metadata": {
    "collapsed": false
   },
   "outputs": [
    {
     "ename": "AttributeError",
     "evalue": "'str' object has no attribute 'columns'",
     "output_type": "error",
     "traceback": [
      "\u001b[0;31m---------------------------------------------------------------------------\u001b[0m",
      "\u001b[0;31mAttributeError\u001b[0m                            Traceback (most recent call last)",
      "\u001b[0;32m<ipython-input-8-970d0ed3896a>\u001b[0m in \u001b[0;36m<module>\u001b[0;34m()\u001b[0m\n\u001b[1;32m      2\u001b[0m \u001b[0minfile1\u001b[0m\u001b[0;34m=\u001b[0m\u001b[0;34m(\u001b[0m\u001b[0;34m'*_AGC.fits'\u001b[0m\u001b[0;34m)\u001b[0m\u001b[0;34m\u001b[0m\u001b[0m\n\u001b[1;32m      3\u001b[0m \u001b[0moutfile1\u001b[0m \u001b[0;34m=\u001b[0m \u001b[0mopen\u001b[0m\u001b[0;34m(\u001b[0m\u001b[0;34m'biweight_center_scale_AGC.dat'\u001b[0m\u001b[0;34m,\u001b[0m\u001b[0;34m'w'\u001b[0m\u001b[0;34m)\u001b[0m\u001b[0;34m\u001b[0m\u001b[0m\n\u001b[0;32m----> 4\u001b[0;31m \u001b[0mcols\u001b[0m \u001b[0;34m=\u001b[0m \u001b[0minfile1\u001b[0m\u001b[0;34m[\u001b[0m\u001b[0;36m1\u001b[0m\u001b[0;34m]\u001b[0m\u001b[0;34m.\u001b[0m\u001b[0mcolumns\u001b[0m \u001b[0;31m# Prints the titles of each column\u001b[0m\u001b[0;34m\u001b[0m\u001b[0m\n\u001b[0m\u001b[1;32m      5\u001b[0m \u001b[0mcols\u001b[0m\u001b[0;34m.\u001b[0m\u001b[0minfo\u001b[0m\u001b[0;34m(\u001b[0m\u001b[0;34m)\u001b[0m\u001b[0;34m\u001b[0m\u001b[0m\n\u001b[1;32m      6\u001b[0m \u001b[0minfile2\u001b[0m\u001b[0;34m=\u001b[0m\u001b[0mglob\u001b[0m\u001b[0;34m.\u001b[0m\u001b[0mglob\u001b[0m\u001b[0;34m(\u001b[0m\u001b[0;34m'*_NSA.fits'\u001b[0m\u001b[0;34m)\u001b[0m\u001b[0;34m\u001b[0m\u001b[0m\n",
      "\u001b[0;31mAttributeError\u001b[0m: 'str' object has no attribute 'columns'"
     ]
    }
   ],
   "source": [
    "# Read in the fits AGC table\n",
    "infile1=glob.glob('*_AGC.fits')\n",
    "outfile1 = open('biweight_center_scale_AGC.dat','w')\n",
    "infile2=glob.glob('*_NSA.fits')\n",
    "outfile2 = open('biweight_center_scale_NSA.dat','w')\n",
    "for f in infile1:\n",
    "    clustername = f.split('_')[0]\n",
    "    clustervel = vr[names == clustername]\n",
    "    clusterRA = RA[names == clustername]\n",
    "    clusterDEC = DEC[names == clustername]\n",
    "    dat = fits.getdata(f)\n",
    "    keepflag = (np.abs(dat.VOPT - clustervel) < 4000.) & (np.sqrt((dat.RA-clusterRA)**2+(dat.DEC-clusterDEC)**2) < .75)\n",
    "    a,b = getbiweight(dat.VOPT[keepflag])\n",
    "    print clustername, \": center vel = %5.1f, scale = %5.1f, RA = %12.8f, DEC = %12.8f\" % (a,b,clusterRA,clusterDEC)\n",
    "    outfile1.write(clustername+ \" %5.1f %5.1f %12.8f %12.8f\\n\" %(a,b,clusterRA,clusterDEC))\n",
    "outfile1.close()\n",
    "for f in infile2:\n",
    "    clustername=f.split('_')[0]\n",
    "    clustervel=vr[names == clustername]\n",
    "    clusterRA=RA[names == clustername]\n",
    "    clusterDEC=DEC[names == clustername]\n",
    "    dat = fits.getdata(f)\n",
    "    # cut velocities to within +/- 4000 km/s\n",
    "    keepflag = (np.abs(dat.ZDIST*3.e5 - clustervel) < 4000.) & (np.sqrt((dat.RA-clusterRA)**2+(dat.DEC-clusterDEC)**2) < .75)\n",
    "    # calculate biweight center and scale\n",
    "    a,b=getbiweight(dat.ZDIST[keepflag]*3.e5)\n",
    "    print clustername,\": center vel = %5.1f, scale = %5.1f, RA = %12.8f, DEC = %12.8f\"%(a,b,clusterRA,clusterDEC)\n",
    "    outfile2.write(clustername+\" %5.1f %5.1f %12.8f %12.8f\\n\"%(a,b,clusterRA,clusterDEC))\n",
    "outfile2.close()"
   ]
  },
  {
   "cell_type": "code",
   "execution_count": 7,
   "metadata": {
    "collapsed": false
   },
   "outputs": [
    {
     "data": {
      "text/plain": [
       "ColDefs(\n",
       "    name = 'AGCNUMBER'; format = 'J'\n",
       "    name = 'WHICH'; format = '1A'\n",
       "    name = 'RA'; format = 'E'; unit = 'deg'\n",
       "    name = 'DEC'; format = 'E'; unit = 'deg'\n",
       "    name = 'A100'; format = 'J'; unit = 'arcsec'\n",
       "    name = 'B100'; format = 'J'; unit = 'arcsec'\n",
       "    name = 'MAG10'; format = 'J'; unit = 'mag'\n",
       "    name = 'INCCODE'; format = 'J'\n",
       "    name = 'POSANG'; format = 'J'\n",
       "    name = 'DESCRIPTION'; format = '8A'\n",
       "    name = 'BSTEINTYPE'; format = 'J'\n",
       "    name = 'VOPT'; format = 'J'; unit = 'km/s'\n",
       "    name = 'VERR'; format = 'J'; unit = 'km/s'\n",
       "    name = 'EXTRC3'; format = 'J'\n",
       "    name = 'EXTDIRBE'; format = 'J'\n",
       "    name = 'VSOURCE'; format = 'J'\n",
       "    name = 'NGCIC'; format = '8A'\n",
       "    name = 'FLUX100'; format = 'J'\n",
       "    name = 'RMS100'; format = 'J'\n",
       "    name = 'V21'; format = 'J'\n",
       "    name = 'WIDTH'; format = 'J'\n",
       "    name = 'WIDTHERR'; format = 'J'\n",
       "    name = 'TELCODE'; format = '1A'\n",
       "    name = 'DETCODE'; format = 'J'\n",
       "    name = 'HISOURCE'; format = 'I'\n",
       "    name = 'STATUSCODE'; format = 'I'\n",
       "    name = 'SNRATIO'; format = 'I'\n",
       "    name = 'IBANDQUAL'; format = 'I'\n",
       "    name = 'IBANDSRC'; format = 'I'\n",
       "    name = 'IRASFLAG'; format = 'I'\n",
       "    name = 'ICLUSTER'; format = 'I'\n",
       "    name = 'HIDATA'; format = 'I'\n",
       "    name = 'IPOSITION'; format = 'I'\n",
       "    name = 'IPALOMAR'; format = 'I'\n",
       "    name = 'RC3FLAG'; format = 'I'\n",
       ")"
      ]
     },
     "execution_count": 7,
     "metadata": {},
     "output_type": "execute_result"
    }
   ],
   "source": [
    "dat.columns"
   ]
  },
  {
   "cell_type": "code",
   "execution_count": 10,
   "metadata": {
    "collapsed": false
   },
   "outputs": [
    {
     "data": {
      "text/plain": [
       "8913.922194815219"
      ]
     },
     "execution_count": 10,
     "metadata": {},
     "output_type": "execute_result"
    }
   ],
   "source": [
    "a"
   ]
  },
  {
   "cell_type": "code",
   "execution_count": 11,
   "metadata": {
    "collapsed": false
   },
   "outputs": [
    {
     "data": {
      "text/plain": [
       "319.76501114978299"
      ]
     },
     "execution_count": 11,
     "metadata": {},
     "output_type": "execute_result"
    }
   ],
   "source": [
    "b"
   ]
  },
  {
   "cell_type": "code",
   "execution_count": null,
   "metadata": {
    "collapsed": true
   },
   "outputs": [],
   "source": []
  }
 ],
 "metadata": {
  "kernelspec": {
   "display_name": "Python 2",
   "language": "python",
   "name": "python2"
  },
  "language_info": {
   "codemirror_mode": {
    "name": "ipython",
    "version": 2
   },
   "file_extension": ".py",
   "mimetype": "text/x-python",
   "name": "python",
   "nbconvert_exporter": "python",
   "pygments_lexer": "ipython2",
   "version": "2.7.11"
  }
 },
 "nbformat": 4,
 "nbformat_minor": 0
}
