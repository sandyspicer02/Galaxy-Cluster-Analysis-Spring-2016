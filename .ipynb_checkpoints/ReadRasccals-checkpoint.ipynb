{
 "cells": [
  {
   "cell_type": "markdown",
   "metadata": {},
   "source": [
    "### Sample Selection"
   ]
  },
  {
   "cell_type": "markdown",
   "metadata": {},
   "source": [
    "We are selecting a sample of clusters for the phase-space analysis.  One set of criteria is that the clusters have to be in the SDSS and ALFALFA surveys.  A rough cut for the spring sky is\n",
    "\n",
    "    8h < RA < 16h\n",
    "    0 < DEC < 30 deg\n",
    "\n",
    "We also cut the sample based on recession velocity and X-ray luminosity.\n",
    "\n",
    "    (dat.cz > 6000.) & (dat.logLX > 42.3)\n",
    "    \n",
    "    \n",
    "There is some confusion with A2063 vs. NRGs341.  The Mahdavi catalog says they are the same, but the \n",
    "\n",
    "According to NED, here are the position and recession velocity for Abell 2063:\n",
    "\n",
    "    Abell 2063 15h23m01.8s +08d38m22s GClstr  10474  0.034937 230.7578      8.6394\n",
    "    \n",
    "The NED output for RASSCALS NRGs 341 is\n",
    "\n",
    "    WBL 566    15h23m07.0s +08d36m35s GGroup  10840  0.036160\n",
    "    \n",
    "After running this code, run\n",
    "\n",
    "    getNSAcats\n",
    "    getAGCcats\n",
    "    \n"
   ]
  },
  {
   "cell_type": "code",
   "execution_count": 3,
   "metadata": {
    "collapsed": false
   },
   "outputs": [],
   "source": [
    "from astropy.io import fits\n",
    "from matplotlib import pyplot as plt\n",
    "from astropy.table import Table\n",
    "from astropy.io import ascii\n",
    "%matplotlib inline\n",
    "datafile='/Users/sandyspicer/Desktop/Phase_Space_Project/mahdavi2000.fits'\n",
    "dat = fits.getdata(datafile)"
   ]
  },
  {
   "cell_type": "code",
   "execution_count": 4,
   "metadata": {
    "collapsed": false
   },
   "outputs": [
    {
     "data": {
      "text/plain": [
       "ColDefs(\n",
       "    name = '_RAJ2000'; format = 'D'; unit = 'deg'; disp = 'F8.4'\n",
       "    name = '_DEJ2000'; format = 'D'; unit = 'deg'; disp = 'F8.4'\n",
       "    name = 'RASSCALS'; format = '7A'; disp = 'A7'\n",
       "    name = 'RAJ2000'; format = 'D'; unit = 'deg'; disp = 'F10.4'\n",
       "    name = 'DEJ2000'; format = 'D'; unit = 'deg'; disp = 'F9.4'\n",
       "    name = 'N'; format = 'I'; disp = 'I3'\n",
       "    name = 'N17'; format = 'I'; disp = 'I4'\n",
       "    name = 'cz'; format = 'J'; unit = 'km/s'; disp = 'I5'\n",
       "    name = 'e_cz'; format = 'I'; unit = 'km/s'; disp = 'I3'\n",
       "    name = 'logsigmap'; format = 'E'; unit = '[km/s]'; disp = 'F5.2'\n",
       "    name = 'e_logsigmap'; format = 'E'; unit = '[km/s]'; disp = 'F5.2'\n",
       "    name = 'l_logLX'; format = 'A'; disp = 'A1'\n",
       "    name = 'logLX'; format = 'E'; unit = '[10-7W]'; disp = 'F5.2'\n",
       "    name = 'e_logLX'; format = 'E'; unit = '[10-7W]'; disp = 'F5.2'\n",
       "    name = 'n_logLX'; format = 'A'; disp = 'A1'\n",
       "    name = 'Names'; format = '20A'; disp = 'A20'\n",
       ")"
      ]
     },
     "execution_count": 4,
     "metadata": {},
     "output_type": "execute_result"
    }
   ],
   "source": [
    "dat.columns"
   ]
  },
  {
   "cell_type": "markdown",
   "metadata": {},
   "source": [
    "Here is the code to select the clusters/groups that are in the right RA and Dec range.  They are shown with the red squares in the plot below."
   ]
  },
  {
   "cell_type": "code",
   "execution_count": 5,
   "metadata": {
    "collapsed": false
   },
   "outputs": [
    {
     "data": {
      "text/plain": [
       "<matplotlib.legend.Legend at 0x107421750>"
      ]
     },
     "execution_count": 5,
     "metadata": {},
     "output_type": "execute_result"
    },
    {
     "data": {
      "image/png": "[encoded data removed]",
      "text/plain": [
       "<matplotlib.figure.Figure at 0x10728ce90>"
      ]
     },
     "metadata": {},
     "output_type": "display_data"
    }
   ],
   "source": [
    "keepflag=(dat.DEJ2000 > 0.) & (dat.DEJ2000 < 30.) & (dat.RAJ2000 > 8.5*15) & (dat.RAJ2000 < 15.5*15)\n",
    "plt.figure(1)\n",
    "plt.plot(dat.RAJ2000,dat.DEJ2000,'bo',label='RASSCALS')\n",
    "plt.plot(dat.RAJ2000[keepflag],dat.DEJ2000[keepflag],'rs',label='SDSS+ALFALFA')\n",
    "plt.xlabel('RA (Deg)')\n",
    "plt.ylabel('Dec (Deg)')\n",
    "plt.legend(numpoints=1,loc='lower right')"
   ]
  },
  {
   "cell_type": "markdown",
   "metadata": {},
   "source": [
    "Now let's look at the redshift and the X-ray luminosity for the groups/clusters that make the RA/Dec cut."
   ]
  },
  {
   "cell_type": "code",
   "execution_count": 6,
   "metadata": {
    "collapsed": false
   },
   "outputs": [
    {
     "data": {
      "text/plain": [
       "<matplotlib.lines.Line2D at 0x107711f50>"
      ]
     },
     "execution_count": 6,
     "metadata": {},
     "output_type": "execute_result"
    },
    {
     "data": {
      "image/png": "[encoded data removed]",
      "text/plain": [
       "<matplotlib.figure.Figure at 0x1073a6210>"
      ]
     },
     "metadata": {},
     "output_type": "display_data"
    }
   ],
   "source": [
    "plt.figure(2)\n",
    "plt.plot(dat.cz[keepflag],dat.logLX[keepflag],'g^',label='SDSS+ALFALFA')\n",
    "plt.xlabel('Recession Velocity')\n",
    "plt.ylabel('log(Lx)')\n",
    "plt.legend(loc='upper left',numpoints=1)\n",
    "plt.axhline(y=42.5,ls='--',color='k')\n",
    "plt.axvline(x=6000,ls=':',color='b')"
   ]
  },
  {
   "cell_type": "markdown",
   "metadata": {},
   "source": [
    "We want to apply 2 additional selection criteria.  First, we want to eliminate clusters with recession velocities less than 6000 km/s using the following cut:$$ v_r < 6000 \\ \\rm km/s$$  This is because the SDSS photometry can be unreliable for the nearest galaxies - the automatic reduction software sometimes divides big galaxies into several sources.  \n",
    "\n",
    "Second, we want to select the most X-ray luminous clusters.  These will be the most massive clusters and will have the best chance of showing a well-defined phase-space diagram.  As a result, we apply the following cut: $$ log_{10}(L_X) > 42.5 $$\n",
    "The luminosity that we are using is a bit arbitrary at this point and was selected so that we would end up with $\\sim 10$ clusters."
   ]
  },
  {
   "cell_type": "code",
   "execution_count": 7,
   "metadata": {
    "collapsed": false
   },
   "outputs": [
    {
     "name": "stderr",
     "output_type": "stream",
     "text": [
      "/Applications/anaconda/lib/python2.7/site-packages/ipykernel/__main__.py:1: RuntimeWarning: invalid value encountered in greater\n",
      "  if __name__ == '__main__':\n"
     ]
    }
   ],
   "source": [
    "sampleflag = keepflag & (dat.cz > 6000.) & (dat.logLX > 42.3)"
   ]
  },
  {
   "cell_type": "markdown",
   "metadata": {},
   "source": [
    "To find out how many clusters make the RA, Dec, cz and logLX cut, we sum sampleflag.  We find that **12 clusters remain** from the Mahdavi & Geller 2000 sample.  The names and RASSCALS ids of the clusters are listed below."
   ]
  },
  {
   "cell_type": "code",
   "execution_count": 8,
   "metadata": {
    "collapsed": false
   },
   "outputs": [
    {
     "data": {
      "text/plain": [
       "15"
      ]
     },
     "execution_count": 8,
     "metadata": {},
     "output_type": "execute_result"
    }
   ],
   "source": [
    "sum(sampleflag)"
   ]
  },
  {
   "cell_type": "code",
   "execution_count": 9,
   "metadata": {
    "collapsed": false
   },
   "outputs": [
    {
     "name": "stdout",
     "output_type": "stream",
     "text": [
      "       MGBR     NRGb004 42.94\n",
      "                NRGs027 42.62\n",
      "                NRGs038 42.47\n",
      "                NRGs076 42.34\n",
      "                NRGs090 42.80\n",
      "      A1137     NRGs110 42.75\n",
      " A1185/MGBR     NRGs117 42.98\n",
      " HCG51/MGBR     NRGb128 42.39\n",
      "      A1367     NRGb155 43.55\n",
      "                NRGb177 42.52\n",
      "       COMA     NRGb226 44.17\n",
      "ZM5129/MGBR     NRGb244 42.63\n",
      " MKW11/MGBR     NRGb247 42.67\n",
      "       MGBR     NRGs317 42.51\n",
      "      A2063     NRGs341 43.75\n"
     ]
    }
   ],
   "source": [
    "names=dat.Names[sampleflag]\n",
    "rnames = dat.RASSCALS[sampleflag]\n",
    "RA=dat.RAJ2000[sampleflag]\n",
    "Dec=dat.DEJ2000[sampleflag]\n",
    "vr=dat.cz[sampleflag]\n",
    "lx=dat.logLX[sampleflag]\n",
    "for i in range(len(names)):\n",
    "    print '%11s %11s %5.2f'%(names[i],rnames[i],lx[i])"
   ]
  },
  {
   "cell_type": "markdown",
   "metadata": {},
   "source": [
    "### NED and SDSS Searches"
   ]
  },
  {
   "cell_type": "markdown",
   "metadata": {},
   "source": [
    "To search for a particular cluster using NED or SDSS Navigator, you must specify the cluster name as:\n",
    "\n",
    "    RASSCALS NRBb 155 \n",
    "\n",
    "Here is one way to write out your data directly into a latex table."
   ]
  },
  {
   "cell_type": "markdown",
   "metadata": {},
   "source": [
    "### Writing Tables in Latex"
   ]
  },
  {
   "cell_type": "code",
   "execution_count": 8,
   "metadata": {
    "collapsed": false
   },
   "outputs": [],
   "source": [
    "sampledat=dat[sampleflag]\n",
    "# rename column names that have '_' because latex thinks these should be in math mode\n",
    "ascii.write(sampledat,output='RASSCALS.tex', Writer=ascii.Latex,latexdict=ascii.latex.latexdicts['AA'],caption='RASSCALS Sub-Sample for Phase Space Analysis',include_names=['RASSCALS','Names','RAJ2000','DEJ2000','N','cz','logsigmap','logLX'],formats={'RAJ2000':'%12.4f','DEJ2000':'%12.4f'})"
   ]
  },
  {
   "cell_type": "markdown",
   "metadata": {},
   "source": [
    "### Writing out RA,Dec and redshift"
   ]
  },
  {
   "cell_type": "code",
   "execution_count": 12,
   "metadata": {
    "collapsed": false
   },
   "outputs": [],
   "source": [
    "outfile=open('sample.dat','w')\n",
    "for i in range(len(rnames)):\n",
    "    if rnames[i] == 'NRGs341':\n",
    "        outfile.write('%11s %12.8f %12.8f %5.4f \\n'%('Abell2063',230.7578,8.6394,10410))\n",
    "    else:\n",
    "        outfile.write('%11s %12.8f %12.8f %5.4f \\n'%(rnames[i],RA[i],Dec[i],vr[i]))\n",
    "outfile.close()"
   ]
  },
  {
   "cell_type": "code",
   "execution_count": null,
   "metadata": {
    "collapsed": false
   },
   "outputs": [],
   "source": []
  }
 ],
 "metadata": {
  "kernelspec": {
   "display_name": "Python 2",
   "language": "python",
   "name": "python2"
  },
  "language_info": {
   "codemirror_mode": {
    "name": "ipython",
    "version": 2
   },
   "file_extension": ".py",
   "mimetype": "text/x-python",
   "name": "python",
   "nbconvert_exporter": "python",
   "pygments_lexer": "ipython2",
   "version": "2.7.11"
  }
 },
 "nbformat": 4,
 "nbformat_minor": 0
}
