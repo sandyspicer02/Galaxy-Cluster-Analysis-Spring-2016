{
 "metadata": {
  "name": "",
  "signature": "sha256:bf5e6f81415adf5b2a6d8118f874313ca1b31599ceff9832a7b3b968d7bf7cd3"
 },
 "nbformat": 3,
 "nbformat_minor": 0,
 "worksheets": [
  {
   "cells": [
    {
     "cell_type": "markdown",
     "metadata": {},
     "source": [
      "The goal of this program is to match the NSA galaxies to the AGC catalogs.\n",
      "\n",
      "Ideally, there will be a one-to-one match, but of course, nothing is ideal...\n",
      "\n",
      "So what do we do with galaxies that don't have an NSA match?  We will need to \n",
      "get their SDSS colors another way so that we can properly separate them into \n",
      "blue and red, and so we can estimate their stellar masses."
     ]
    },
    {
     "cell_type": "code",
     "collapsed": false,
     "input": [
      "from matplotlib import pyplot as plt\n",
      "import numpy as np\n",
      "from astropy.io import fits\n",
      "import glob\n",
      "%matplotlib inline"
     ],
     "language": "python",
     "metadata": {},
     "outputs": [],
     "prompt_number": 1
    },
    {
     "cell_type": "code",
     "collapsed": false,
     "input": [
      "def findnearest(x1,y1,x2,y2,delta):#use where command\n",
      "    matchflag=1\n",
      "    nmatch=0\n",
      "    d=np.sqrt((x1-x2)**2 + (y1-y2)**2)#x2 and y2 are arrays\n",
      "    index=np.arange(len(d))\n",
      "    t=index[d<delta]\n",
      "    matches=t\n",
      "    if len(matches) > 0:\n",
      "        nmatch=len(matches)\n",
      "        if nmatch > 1:\n",
      "            imatch=index[(d == min(d[t]))]\n",
      "        else:\n",
      "            imatch=matches[0]\n",
      "    else:\n",
      "        imatch = 0\n",
      "        matchflag = 0\n",
      "\n",
      "    return imatch, matchflag,nmatch"
     ],
     "language": "python",
     "metadata": {},
     "outputs": [],
     "prompt_number": 2
    },
    {
     "cell_type": "code",
     "collapsed": false,
     "input": [
      "def compare_samples(x1,y1,x2,y2):\n",
      "    plt.figure()\n",
      "    plt.plot(x1,y1,'bo')\n",
      "    plt.plot(x2,y2,'ks')"
     ],
     "language": "python",
     "metadata": {},
     "outputs": [],
     "prompt_number": 3
    },
    {
     "cell_type": "code",
     "collapsed": false,
     "input": [
      "# match radiuss = 3 arcsec\n",
      "matchradius=3./3600 # convert to degrees\n",
      "\n",
      "    \n",
      "clusterfiles=glob.glob('*_AGC.fits')\n",
      "for cfile in clusterfiles:\n",
      "    agcdat=fits.getdata(cfile)\n",
      "    name=cfile.split('_')[0]\n",
      "    nsafile=name+'_NSA.fits'\n",
      "    print nsafile\n",
      "    nsadat=fits.getdata(nsafile)\n",
      "    imatch=np.zeros(len(agcdat.RA),'i')\n",
      "    matchflag=np.zeros(len(agcdat.RA),'bool')\n",
      "    nmatch=np.zeros(len(agcdat.RA),'i')\n",
      "    for i in range(len(agcdat.RA)):\n",
      "        imatch[i],matchflag[i],nmatch[i] = findnearest(agcdat.RA[i],agcdat.DEC[i],nsadat.RA,nsadat.DEC,matchradius)\n",
      "    \n",
      "    outfile=name+'_matchNSAtoAGC.fits'\n",
      "    \n",
      "    orig_cols = agcdat.columns\n",
      "    new_cols = []\n",
      "    for col in nsadat.columns.names:\n",
      "        print col\n",
      "        base=nsadat[col]\n",
      "        print base.shape,matchflag.shape\n",
      "        a=nsadat[col][imatch]*matchflag + np.zeros(len(nsadat[col]))*matchflag\n",
      "        #new_cols.append(a)\n",
      "        #print a.shape\n",
      "                                        \n",
      "        t=fits.Column(name=col, array=a)\n",
      "        new_cols.append(t)\n",
      "    fits.ColDefs([new_cols])\n",
      "    hdu = fits.BinTableHDU.from_columns(orig_cols + new_cols)\n",
      "    \n",
      "    hdu.writeto(outfile,clobber='yes')"
     ],
     "language": "python",
     "metadata": {},
     "outputs": [
      {
       "output_type": "stream",
       "stream": "stdout",
       "text": [
        "Abell2063_NSA.fits\n",
        "IAUNAME"
       ]
      },
      {
       "output_type": "stream",
       "stream": "stdout",
       "text": [
        "\n",
        "(949,) (992,)\n"
       ]
      },
      {
       "ename": "ValueError",
       "evalue": "Can only multiply by integers",
       "output_type": "pyerr",
       "traceback": [
        "\u001b[0;31m---------------------------------------------------------------------------\u001b[0m\n\u001b[0;31mValueError\u001b[0m                                Traceback (most recent call last)",
        "\u001b[0;32m<ipython-input-6-fc8cfcdc6f1c>\u001b[0m in \u001b[0;36m<module>\u001b[0;34m()\u001b[0m\n\u001b[1;32m     24\u001b[0m         \u001b[0mbase\u001b[0m\u001b[0;34m=\u001b[0m\u001b[0mnsadat\u001b[0m\u001b[0;34m[\u001b[0m\u001b[0mcol\u001b[0m\u001b[0;34m]\u001b[0m\u001b[0;34m\u001b[0m\u001b[0m\n\u001b[1;32m     25\u001b[0m         \u001b[0;32mprint\u001b[0m \u001b[0mbase\u001b[0m\u001b[0;34m.\u001b[0m\u001b[0mshape\u001b[0m\u001b[0;34m,\u001b[0m\u001b[0mmatchflag\u001b[0m\u001b[0;34m.\u001b[0m\u001b[0mshape\u001b[0m\u001b[0;34m\u001b[0m\u001b[0m\n\u001b[0;32m---> 26\u001b[0;31m         \u001b[0ma\u001b[0m\u001b[0;34m=\u001b[0m\u001b[0mnsadat\u001b[0m\u001b[0;34m[\u001b[0m\u001b[0mcol\u001b[0m\u001b[0;34m]\u001b[0m\u001b[0;34m[\u001b[0m\u001b[0mimatch\u001b[0m\u001b[0;34m]\u001b[0m\u001b[0;34m*\u001b[0m\u001b[0mmatchflag\u001b[0m \u001b[0;34m+\u001b[0m \u001b[0mnp\u001b[0m\u001b[0;34m.\u001b[0m\u001b[0mzeros\u001b[0m\u001b[0;34m(\u001b[0m\u001b[0mlen\u001b[0m\u001b[0;34m(\u001b[0m\u001b[0mnsadat\u001b[0m\u001b[0;34m[\u001b[0m\u001b[0mcol\u001b[0m\u001b[0;34m]\u001b[0m\u001b[0;34m)\u001b[0m\u001b[0;34m)\u001b[0m\u001b[0;34m*\u001b[0m\u001b[0mmatchflag\u001b[0m\u001b[0;34m\u001b[0m\u001b[0m\n\u001b[0m\u001b[1;32m     27\u001b[0m         \u001b[0;31m#new_cols.append(a)\u001b[0m\u001b[0;34m\u001b[0m\u001b[0;34m\u001b[0m\u001b[0m\n\u001b[1;32m     28\u001b[0m         \u001b[0;31m#print a.shape\u001b[0m\u001b[0;34m\u001b[0m\u001b[0;34m\u001b[0m\u001b[0m\n",
        "\u001b[0;32m/Users/rfinn/Ureka/variants/common/lib/python2.7/site-packages/numpy/core/defchararray.pyc\u001b[0m in \u001b[0;36m__mul__\u001b[0;34m(self, i)\u001b[0m\n\u001b[1;32m   1954\u001b[0m         \u001b[0mmultiply\u001b[0m\u001b[0;34m\u001b[0m\u001b[0m\n\u001b[1;32m   1955\u001b[0m         \"\"\"\n\u001b[0;32m-> 1956\u001b[0;31m         \u001b[0;32mreturn\u001b[0m \u001b[0masarray\u001b[0m\u001b[0;34m(\u001b[0m\u001b[0mmultiply\u001b[0m\u001b[0;34m(\u001b[0m\u001b[0mself\u001b[0m\u001b[0;34m,\u001b[0m \u001b[0mi\u001b[0m\u001b[0;34m)\u001b[0m\u001b[0;34m)\u001b[0m\u001b[0;34m\u001b[0m\u001b[0m\n\u001b[0m\u001b[1;32m   1957\u001b[0m \u001b[0;34m\u001b[0m\u001b[0m\n\u001b[1;32m   1958\u001b[0m     \u001b[0;32mdef\u001b[0m \u001b[0m__rmul__\u001b[0m\u001b[0;34m(\u001b[0m\u001b[0mself\u001b[0m\u001b[0;34m,\u001b[0m \u001b[0mi\u001b[0m\u001b[0;34m)\u001b[0m\u001b[0;34m:\u001b[0m\u001b[0;34m\u001b[0m\u001b[0m\n",
        "\u001b[0;32m/Users/rfinn/Ureka/variants/common/lib/python2.7/site-packages/numpy/core/defchararray.pyc\u001b[0m in \u001b[0;36mmultiply\u001b[0;34m(a, i)\u001b[0m\n\u001b[1;32m    308\u001b[0m     \u001b[0mi_arr\u001b[0m \u001b[0;34m=\u001b[0m \u001b[0mnumpy\u001b[0m\u001b[0;34m.\u001b[0m\u001b[0masarray\u001b[0m\u001b[0;34m(\u001b[0m\u001b[0mi\u001b[0m\u001b[0;34m)\u001b[0m\u001b[0;34m\u001b[0m\u001b[0m\n\u001b[1;32m    309\u001b[0m     \u001b[0;32mif\u001b[0m \u001b[0;32mnot\u001b[0m \u001b[0missubclass\u001b[0m\u001b[0;34m(\u001b[0m\u001b[0mi_arr\u001b[0m\u001b[0;34m.\u001b[0m\u001b[0mdtype\u001b[0m\u001b[0;34m.\u001b[0m\u001b[0mtype\u001b[0m\u001b[0;34m,\u001b[0m \u001b[0minteger\u001b[0m\u001b[0;34m)\u001b[0m\u001b[0;34m:\u001b[0m\u001b[0;34m\u001b[0m\u001b[0m\n\u001b[0;32m--> 310\u001b[0;31m         \u001b[0;32mraise\u001b[0m \u001b[0mValueError\u001b[0m\u001b[0;34m(\u001b[0m\u001b[0;34m\"Can only multiply by integers\"\u001b[0m\u001b[0;34m)\u001b[0m\u001b[0;34m\u001b[0m\u001b[0m\n\u001b[0m\u001b[1;32m    311\u001b[0m     \u001b[0mout_size\u001b[0m \u001b[0;34m=\u001b[0m \u001b[0m_get_num_chars\u001b[0m\u001b[0;34m(\u001b[0m\u001b[0ma_arr\u001b[0m\u001b[0;34m)\u001b[0m \u001b[0;34m*\u001b[0m \u001b[0mmax\u001b[0m\u001b[0;34m(\u001b[0m\u001b[0mlong\u001b[0m\u001b[0;34m(\u001b[0m\u001b[0mi_arr\u001b[0m\u001b[0;34m.\u001b[0m\u001b[0mmax\u001b[0m\u001b[0;34m(\u001b[0m\u001b[0;34m)\u001b[0m\u001b[0;34m)\u001b[0m\u001b[0;34m,\u001b[0m \u001b[0;36m0\u001b[0m\u001b[0;34m)\u001b[0m\u001b[0;34m\u001b[0m\u001b[0m\n\u001b[1;32m    312\u001b[0m     return _vec_string(\n",
        "\u001b[0;31mValueError\u001b[0m: Can only multiply by integers"
       ]
      }
     ],
     "prompt_number": 6
    },
    {
     "cell_type": "code",
     "collapsed": false,
     "input": [
      "plt.figure()\n",
      "plt.hist(agcdat.VOPT,color='b',bins=np.arange(0,12000,500),label='AGC')\n",
      "plt.hist(nsadat.ZDIST*3.e5,color='g',bins=np.arange(0,12000,500),label='NSA')\n",
      "plt.xlabel('Recession Velocity')"
     ],
     "language": "python",
     "metadata": {},
     "outputs": [
      {
       "metadata": {},
       "output_type": "pyout",
       "prompt_number": 5,
       "text": [
        "<matplotlib.text.Text at 0x109ecff50>"
       ]
      },
      {
       "metadata": {},
       "output_type": "display_data",
       "png": "[encoded data removed]",
       "text": [
        "<matplotlib.figure.Figure at 0x109ecf310>"
       ]
      }
     ],
     "prompt_number": 5
    },
    {
     "cell_type": "code",
     "collapsed": false,
     "input": [],
     "language": "python",
     "metadata": {},
     "outputs": []
    }
   ],
   "metadata": {}
  }
 ]
}